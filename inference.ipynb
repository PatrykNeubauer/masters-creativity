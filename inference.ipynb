{
 "cells": [
  {
   "cell_type": "markdown",
   "metadata": {},
   "source": [
    "## Imports"
   ]
  },
  {
   "cell_type": "code",
   "execution_count": 1,
   "metadata": {},
   "outputs": [],
   "source": [
    "import os\n",
    "import hydra"
   ]
  },
  {
   "cell_type": "markdown",
   "metadata": {},
   "source": [
    "## Paths"
   ]
  },
  {
   "cell_type": "code",
   "execution_count": 2,
   "metadata": {},
   "outputs": [],
   "source": [
    "experiment_path = r'E:\\Python Projects\\masters-computional-creativity\\masters-creativity\\outputs\\test\\2022-10-04\\20-24-25'\n",
    "# model_ckpt = 'epoch=14-step=13500.ckpt'\n",
    "\n",
    "# ckpt_path = os.path.join(experiment_path, 'checkpoints', model_ckpt)\n",
    "\n",
    "ckpt_path = r'E:\\Python Projects\\masters-computional-creativity\\masters-creativity\\outputs\\test\\2022-10-04\\20-24-25\\checkpoints\\epoch=14-step=54390.ckpt'\n",
    "config_path = os.path.join(experiment_path, '.hydra', 'config.yaml')"
   ]
  },
  {
   "cell_type": "markdown",
   "metadata": {},
   "source": [
    "## Initialize Hydra"
   ]
  },
  {
   "cell_type": "code",
   "execution_count": 3,
   "metadata": {},
   "outputs": [
    {
     "name": "stderr",
     "output_type": "stream",
     "text": [
      "C:\\Users\\User\\AppData\\Local\\Temp\\ipykernel_20716\\2090272203.py:1: UserWarning: \n",
      "The version_base parameter is not specified.\n",
      "Please specify a compatability version level, or None.\n",
      "Will assume defaults for version 1.1\n",
      "  hydra.initialize(config_path=\"conf\")\n"
     ]
    }
   ],
   "source": [
    "hydra.initialize(config_path=\"conf\")\n",
    "cfg = hydra.compose(config_name=\"train\")"
   ]
  },
  {
   "cell_type": "markdown",
   "metadata": {},
   "source": [
    "## Load the model"
   ]
  },
  {
   "cell_type": "code",
   "execution_count": 4,
   "metadata": {},
   "outputs": [
    {
     "name": "stderr",
     "output_type": "stream",
     "text": [
      "e:\\Python Projects\\masters-computional-creativity\\venv\\lib\\site-packages\\tqdm\\auto.py:22: TqdmWarning: IProgress not found. Please update jupyter and ipywidgets. See https://ipywidgets.readthedocs.io/en/stable/user_install.html\n",
      "  from .autonotebook import tqdm as notebook_tqdm\n"
     ]
    }
   ],
   "source": [
    "model = hydra.utils.instantiate(cfg.model)\n",
    "model = model.load_from_checkpoint(ckpt_path)"
   ]
  },
  {
   "cell_type": "code",
   "execution_count": 5,
   "metadata": {},
   "outputs": [],
   "source": [
    "def generate(prompt):\n",
    "    tokens = model.generate(prompt, max_length=model.max_seq_len, do_sample=True, top_p=0.9, top_k=0, length_penalty=2.2, no_repeat_ngram_size=2, num_beams=4)\n",
    "    text = model.tokenizer.decode(tokens[0])\n",
    "    text = text.replace('\\\\n', '\\n')\n",
    "    return text"
   ]
  },
  {
   "cell_type": "markdown",
   "metadata": {},
   "source": [
    "## Experiments"
   ]
  },
  {
   "cell_type": "code",
   "execution_count": 6,
   "metadata": {},
   "outputs": [],
   "source": [
    "prompt = 'Dwa plus dwa to '"
   ]
  },
  {
   "cell_type": "code",
   "execution_count": 7,
   "metadata": {},
   "outputs": [
    {
     "name": "stderr",
     "output_type": "stream",
     "text": [
      "The attention mask and the pad token id were not set. As a consequence, you may observe unexpected behavior. Please pass your input's `attention_mask` to obtain reliable results.\n",
      "Setting `pad_token_id` to `eos_token_id`:50256 for open-end generation.\n"
     ]
    },
    {
     "name": "stdout",
     "output_type": "stream",
     "text": [
      "Dwa plus dwa to łkacze, dwa hej!\n",
      "Cóż to za dziwo! piszczy w niebogłośni\n",
      "Wśród bosych membolii, w skarpetkach od samego rana.\n",
      "\n",
      "Cz dwa w trzy, cztery w cztery, to muza przygasa na zachodzie,\n",
      "W księżycu na niebie najwyższym szwadronem\n",
      "Ciężkie tortury muszą znosić, ażeby żaden pocisk nie\n",
      "Nie zapłonął! Hej! ha! nie lądują z wrogiem armaty\n",
      "Nawet ziemskie promyszki hamulcowe z naczepami górskimi\n",
      "Moszczą się na wznak w bezdennej czeluści\n",
      "Coraz to liczniejsze zapuszczają się w toń, co szerzej\n",
      "Pryśnie dopiero czarna dziura świt pod wodą.Hej! Trzy! cztery! to czworga przyczółek! frasują się\n",
      "grubymi od mrozu braćmi, zwanymi czasami Prometeuszy\n",
      "Trzepotać na wietrze między dachami krytymi słomianymi -\n",
      "albo czwotnie trzech narodów, albo w dwa siodłate wilki\n",
      "Trzymaj żelazną ręką ten żelazny trzos, który utrzyma przy żelaznym boku\n",
      "Szadź jest tu jedyną rybą, która przetrwa zawieję z głębi ziemi\n",
      "Niż po akwenie, gdy czart łowi zwierzynę na środku rzeki...\n",
      "Hej, czwóroklasiści! Czy pamiętacie jeszcze\n",
      "Tak dziwną postać w tej naszej Czeslayd głuchej, polskiej szkoły\n",
      "? Piszą o niej w gazetach uczniowskich\n",
      "I Wyborcza jawi się nam jako jedyna polska teokracja\n",
      "Ale czy to dobry poganin, ten z zakonu jezuitów, czy też\n",
      "Władysławowi Zamoyskiemu, hetmanowi żmudnemu\n",
      "Szumią ławice chmur kłępią się pod pianą tych powolnych wezbrań\n",
      "Czy pamiętasz go z listów do dziecinnych umysłów, z tych zabaw\n",
      "Gdy na tronie dzierży spuściznę po swoich wzorach\n",
      "Lubi czchika i pirusa, lubi troić brytany w ludzkich łonach?\n",
      "Czesław Miłosz, Herbatrzą wilkomco tyż wiesz, Czeludź to smok\n",
      "Pisane po psiemu, po kocie w psim gnieździe\n",
      "Dziwne rzeczy czytał na ten temat dziad prenumertattował\n",
      "Nazwał się Harvard-Skłodowskiej i skupował jego dzieła\n",
      "Prenumertował także dzieła Miłosza i Thai-sa-Ża\n"
     ]
    }
   ],
   "source": [
    "text = generate(prompt)\n",
    "print(text)"
   ]
  }
 ],
 "metadata": {
  "kernelspec": {
   "display_name": "Python 3.8.3 ('venv': venv)",
   "language": "python",
   "name": "python3"
  },
  "language_info": {
   "codemirror_mode": {
    "name": "ipython",
    "version": 3
   },
   "file_extension": ".py",
   "mimetype": "text/x-python",
   "name": "python",
   "nbconvert_exporter": "python",
   "pygments_lexer": "ipython3",
   "version": "3.8.3"
  },
  "orig_nbformat": 4,
  "vscode": {
   "interpreter": {
    "hash": "a5b8d05cec39c28f3c3d0650e14e093d7df9b9835972659ff6a4e8c861823382"
   }
  }
 },
 "nbformat": 4,
 "nbformat_minor": 2
}
