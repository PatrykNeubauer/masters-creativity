{
 "cells": [
  {
   "cell_type": "markdown",
   "metadata": {},
   "source": [
    "## Imports"
   ]
  },
  {
   "cell_type": "code",
   "execution_count": 1,
   "metadata": {},
   "outputs": [],
   "source": [
    "import os\n",
    "import hydra"
   ]
  },
  {
   "cell_type": "markdown",
   "metadata": {},
   "source": [
    "## Paths"
   ]
  },
  {
   "cell_type": "code",
   "execution_count": 2,
   "metadata": {},
   "outputs": [],
   "source": [
    "experiment_path = r'E:\\Python Projects\\masters-computional-creativity\\masters-creativity\\outputs\\test\\2022-08-27\\10-24-00'\n",
    "model_ckpt = 'epoch=14-step=13500.ckpt'\n",
    "\n",
    "ckpt_path = os.path.join(experiment_path, 'checkpoints', model_ckpt)\n",
    "config_path = os.path.join(experiment_path, '.hydra', 'config.yaml')"
   ]
  },
  {
   "cell_type": "markdown",
   "metadata": {},
   "source": [
    "## Initialize Hydra"
   ]
  },
  {
   "cell_type": "code",
   "execution_count": 3,
   "metadata": {},
   "outputs": [
    {
     "name": "stderr",
     "output_type": "stream",
     "text": [
      "C:\\Users\\User\\AppData\\Local\\Temp\\ipykernel_24996\\2090272203.py:1: UserWarning: \n",
      "The version_base parameter is not specified.\n",
      "Please specify a compatability version level, or None.\n",
      "Will assume defaults for version 1.1\n",
      "  hydra.initialize(config_path=\"conf\")\n"
     ]
    }
   ],
   "source": [
    "hydra.initialize(config_path=\"conf\")\n",
    "cfg = hydra.compose(config_name=\"train\")"
   ]
  },
  {
   "cell_type": "markdown",
   "metadata": {},
   "source": [
    "## Load the model"
   ]
  },
  {
   "cell_type": "code",
   "execution_count": 5,
   "metadata": {},
   "outputs": [],
   "source": [
    "model = hydra.utils.instantiate(cfg.model)\n",
    "model = model.load_from_checkpoint(ckpt_path)"
   ]
  },
  {
   "cell_type": "code",
   "execution_count": 27,
   "metadata": {},
   "outputs": [],
   "source": [
    "def generate(prompt):\n",
    "    tokens = model.generate(prompt, max_length=model.max_seq_len, length_penalty=2.2, no_repeat_ngram_size=3, num_beams=4)\n",
    "    text = model.tokenizer.decode(tokens[0])\n",
    "    text = text.replace('\\\\n', '\\n')\n",
    "    return text"
   ]
  },
  {
   "cell_type": "markdown",
   "metadata": {},
   "source": [
    "## Experiments"
   ]
  },
  {
   "cell_type": "code",
   "execution_count": 30,
   "metadata": {},
   "outputs": [],
   "source": [
    "prompt = 'Co tam chłopcze w twojej główce\\n'"
   ]
  },
  {
   "cell_type": "code",
   "execution_count": 31,
   "metadata": {},
   "outputs": [
    {
     "name": "stderr",
     "output_type": "stream",
     "text": [
      "The attention mask and the pad token id were not set. As a consequence, you may observe unexpected behavior. Please pass your input's `attention_mask` to obtain reliable results.\n",
      "Setting `pad_token_id` to `eos_token_id`:50256 for open-end generation.\n"
     ]
    },
    {
     "name": "stdout",
     "output_type": "stream",
     "text": [
      "Co tam chłopcze w twojej główce\n",
      "...\n",
      "Niech lat dociec umili,\n",
      "Chcę powcześć nie umili!\n",
      "Kręconym nurtem pochwyca wzrok się uśmiechu\n",
      "Wyciągnąłem długie słońca, - stoi zostałem -\n",
      "Na koniec wiecznościłem za życia i wierzychu.\n",
      "Że jęczałem wykręconej przypomnienia wyciem świecieńczyłem\n",
      "I żołnierz męczących i znowu, - nie mogę zachwyczenia zachodu\n",
      "Błysnęło wystraszę, jak głębi wyją wiatr zasłonę;\n",
      "Lecz żeby pozbyło ziemię - wesoło żegluję wszystkiego źrenice\n",
      "Głowę widziałem na świętego łonącej za obłudnie;\n",
      "z Lwieciła jak mążcza przywitezi wyrazem zapłonić,\n",
      "z Beduina jak szczęścieka przyświoła przestworzyć.\n",
      "z Pierwszy na wzgórkiem - jak w niejmierzą dwoje okrączy\n",
      "Zostało między za niebie czaszkowieczy, - nigdy wzgięga ciemnicę pokrzyć?\n",
      "Już nie przykrączcem pierwszy, których teraz nie zgadnie:\n",
      "Jak ów\n"
     ]
    }
   ],
   "source": [
    "text = generate(prompt)\n",
    "print(text)"
   ]
  }
 ],
 "metadata": {
  "kernelspec": {
   "display_name": "Python 3.8.3 ('venv': venv)",
   "language": "python",
   "name": "python3"
  },
  "language_info": {
   "codemirror_mode": {
    "name": "ipython",
    "version": 3
   },
   "file_extension": ".py",
   "mimetype": "text/x-python",
   "name": "python",
   "nbconvert_exporter": "python",
   "pygments_lexer": "ipython3",
   "version": "3.8.3"
  },
  "orig_nbformat": 4,
  "vscode": {
   "interpreter": {
    "hash": "a5b8d05cec39c28f3c3d0650e14e093d7df9b9835972659ff6a4e8c861823382"
   }
  }
 },
 "nbformat": 4,
 "nbformat_minor": 2
}
